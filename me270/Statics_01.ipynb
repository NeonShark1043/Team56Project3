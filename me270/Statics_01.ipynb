{
  "cells": [
    {
      "cell_type": "code",
      "execution_count": null,
      "metadata": {
        "tags": [
          "hide-input",
          "hide-output"
        ],
        "id": "3A2YxTrdy3GQ"
      },
      "outputs": [],
      "source": [
        "import numpy as np\n",
        "import matplotlib.pyplot as plt\n",
        "%matplotlib inline\n",
        "import matplotlib_inline\n",
        "matplotlib_inline.backend_inline.set_matplotlib_formats('svg')\n",
        "import seaborn as sns\n",
        "sns.set_context(\"paper\")\n",
        "sns.set_style(\"ticks\");"
      ]
    },
    {
      "cell_type": "markdown",
      "metadata": {
        "id": "36OjEryuy3GU"
      },
      "source": [
        "# ME 270 - Activity 1 - Shear Force and Bending Moment Diagrams\n",
        "\n",
        "In this activity, we will provide a basic introduction to Python programming motivated by the goal of plotting shear-force and bending-moment diagrams.\n",
        "\n",
        "We see here below a beam with an applied load and an applied moment at some arbitrary points.\n",
        "\n",
        "<figure>\n",
        " <img src=\"https://raw.githubusercontent.com/ebilionis/core-me-data-science-activities-public/refs/heads/main/images/Statics1_beam.png\" width=\"700\" height=\"300\">\n",
        "</figure>\n",
        "\n",
        "We will calculate the shear force and bending moment at different points along the beam and plot the diagrams.\n"
      ]
    },
    {
      "cell_type": "markdown",
      "metadata": {
        "id": "ubP0RGtly3GV"
      },
      "source": [
        "### Question 1 - Basic Python Syntax\n",
        "\n",
        "Let's first review some basic Python syntax, starting with variable assignment. It is always good practice to assign variables and not hard-code values in your calculations. It is also good practice to use meaningful variable names and comments to explain the purpose of the variable and the units of the value."
      ]
    },
    {
      "cell_type": "code",
      "execution_count": null,
      "metadata": {
        "id": "Jb0YYt_fy3GW"
      },
      "outputs": [],
      "source": [
        "# Dimension of beam AD\n",
        "d_ab = 6 # m\n",
        "d_bc = 3.0 # m\n",
        "d_cd = 6.0 # m"
      ]
    },
    {
      "cell_type": "markdown",
      "metadata": {
        "id": "9Pr9pJjMy3GW"
      },
      "source": [
        "Exploring variable types and operations is also important. Types are implicit in Python, but you can always check the type of a variable using the `type()` function."
      ]
    },
    {
      "cell_type": "code",
      "execution_count": null,
      "metadata": {
        "id": "j7tVaddOy3GX",
        "outputId": "c2c485dc-33d6-4bf0-fa66-79d222714fdb"
      },
      "outputs": [
        {
          "data": {
            "text/plain": [
              "int"
            ]
          },
          "execution_count": 3,
          "metadata": {},
          "output_type": "execute_result"
        }
      ],
      "source": [
        "type(d_ab)"
      ]
    },
    {
      "cell_type": "code",
      "execution_count": null,
      "metadata": {
        "id": "p0-w-GEfy3GY",
        "outputId": "83450b1f-092f-4f36-87ce-2695f66a4bb2"
      },
      "outputs": [
        {
          "data": {
            "text/plain": [
              "float"
            ]
          },
          "execution_count": 4,
          "metadata": {},
          "output_type": "execute_result"
        }
      ],
      "source": [
        "type(d_bc)"
      ]
    },
    {
      "cell_type": "code",
      "execution_count": null,
      "metadata": {
        "id": "GdKTod54y3GY",
        "outputId": "a87ae84e-4dcc-486b-de02-6021800e9cf9"
      },
      "outputs": [
        {
          "data": {
            "text/plain": [
              "float"
            ]
          },
          "execution_count": 5,
          "metadata": {},
          "output_type": "execute_result"
        }
      ],
      "source": [
        "type(d_cd)"
      ]
    },
    {
      "cell_type": "markdown",
      "metadata": {
        "id": "5_nn6FPjy3GZ"
      },
      "source": [
        "Do you see why `d_ab` is an integer and `d_cd` is a float? When we assigned the value of `d_ab` we use did not use a decimal point, so Python interprets it as an integer. When we assigned the value of `d_cd` we used a decimal point, so Python interprets it as a float. We can also convert between types using the `int()` and `float()` functions."
      ]
    },
    {
      "cell_type": "code",
      "execution_count": null,
      "metadata": {
        "id": "3I8bkdpZy3GZ",
        "outputId": "00116d77-d939-4570-fc2c-0e808651d293"
      },
      "outputs": [
        {
          "data": {
            "text/plain": [
              "int"
            ]
          },
          "execution_count": 6,
          "metadata": {},
          "output_type": "execute_result"
        }
      ],
      "source": [
        "d_cd = int(d_cd)\n",
        "type(d_cd)"
      ]
    },
    {
      "cell_type": "markdown",
      "metadata": {
        "id": "PQq4ag-zy3GZ"
      },
      "source": [
        "Understanding the types of variables is important because it determines how they can be used in calculations. Let's add up our three segment lengths to find the total length of the beam."
      ]
    },
    {
      "cell_type": "code",
      "execution_count": 1,
      "metadata": {
        "colab": {
          "base_uri": "https://localhost:8080/",
          "height": 159
        },
        "id": "TrFy4uvCy3GZ",
        "outputId": "4a0f79dd-1d10-47bd-8432-dbcd07051e7c"
      },
      "outputs": [
        {
          "output_type": "error",
          "ename": "NameError",
          "evalue": "name 'd_ab' is not defined",
          "traceback": [
            "\u001b[0;31m---------------------------------------------------------------------------\u001b[0m",
            "\u001b[0;31mNameError\u001b[0m                                 Traceback (most recent call last)",
            "\u001b[0;32m<ipython-input-1-e07287d6a330>\u001b[0m in \u001b[0;36m<cell line: 0>\u001b[0;34m()\u001b[0m\n\u001b[0;32m----> 1\u001b[0;31m \u001b[0mL\u001b[0m \u001b[0;34m=\u001b[0m \u001b[0md_ab\u001b[0m \u001b[0;34m+\u001b[0m \u001b[0md_bc\u001b[0m \u001b[0;34m+\u001b[0m \u001b[0md_cd\u001b[0m\u001b[0;34m\u001b[0m\u001b[0;34m\u001b[0m\u001b[0m\n\u001b[0m\u001b[1;32m      2\u001b[0m \u001b[0mtype\u001b[0m\u001b[0;34m(\u001b[0m\u001b[0mL\u001b[0m\u001b[0;34m)\u001b[0m\u001b[0;34m\u001b[0m\u001b[0;34m\u001b[0m\u001b[0m\n",
            "\u001b[0;31mNameError\u001b[0m: name 'd_ab' is not defined"
          ]
        }
      ],
      "source": [
        "L = d_ab + d_bc + d_cd\n",
        "type(L)"
      ]
    },
    {
      "cell_type": "markdown",
      "metadata": {
        "id": "3PkBg_Wiy3Ga"
      },
      "source": [
        "So what is happening here is that the integer `d_ab` is being added to the float `d_cd` and the result is a float. This is because Python will always convert the integer to a float when adding it to a float.\n",
        "\n",
        "Other operations like subtraction, multiplication, division, and exponentiation work similarly. Let me show you the python syntax for these operations."
      ]
    },
    {
      "cell_type": "code",
      "execution_count": null,
      "metadata": {
        "id": "5EG5tbiWy3Ga",
        "outputId": "a5332962-7727-4d09-cb10-e002f007368c"
      },
      "outputs": [
        {
          "data": {
            "text/plain": [
              "3.0"
            ]
          },
          "execution_count": 8,
          "metadata": {},
          "output_type": "execute_result"
        }
      ],
      "source": [
        "x = 5.0 - 2\n",
        "x"
      ]
    },
    {
      "cell_type": "code",
      "execution_count": null,
      "metadata": {
        "id": "qh-94x1Py3Ga",
        "outputId": "70161f6c-5e59-4e7d-9cfd-4113261d543d"
      },
      "outputs": [
        {
          "data": {
            "text/plain": [
              "6.0"
            ]
          },
          "execution_count": 9,
          "metadata": {},
          "output_type": "execute_result"
        }
      ],
      "source": [
        "y = 2 * 3.0\n",
        "y"
      ]
    },
    {
      "cell_type": "code",
      "execution_count": null,
      "metadata": {
        "id": "Mn4GEkQry3Ga",
        "outputId": "c48bc93a-59c6-4f76-8b99-6ab20f7ccdf9"
      },
      "outputs": [
        {
          "data": {
            "text/plain": [
              "2.5"
            ]
          },
          "execution_count": 10,
          "metadata": {},
          "output_type": "execute_result"
        }
      ],
      "source": [
        "z = 5.0 / 2\n",
        "z"
      ]
    },
    {
      "cell_type": "markdown",
      "metadata": {
        "id": "UhWuvSYgy3Ga"
      },
      "source": [
        "Note that the `**` operator is used for exponentiation in Python. Not the `^` operator as in some other programming languages. The `^` operator is used for bitwise XOR in Python."
      ]
    },
    {
      "cell_type": "code",
      "execution_count": null,
      "metadata": {
        "id": "HowbnTtry3Ga",
        "outputId": "75b7e361-5ab3-4a50-b5aa-297a82e7cccb"
      },
      "outputs": [
        {
          "data": {
            "text/plain": [
              "8.0"
            ]
          },
          "execution_count": 11,
          "metadata": {},
          "output_type": "execute_result"
        }
      ],
      "source": [
        "a = 2. ** 3\n",
        "a"
      ]
    },
    {
      "cell_type": "markdown",
      "metadata": {
        "id": "Rbrey68py3Ga"
      },
      "source": [
        "Let's use some of the operations that we learned to do some calculations about our beam. Let's start with a moment calculation. We know that in equilibrium, the sum of the moments about any point must be zero. Let's calculate the moment about point A.\n",
        "\n",
        "$$\n",
        "\\sum M = 0\n",
        "$$\n",
        "\n",
        "$$\n",
        "\\sum M = M_c - (F_b)(d_{ab}) + (B_y)(L)\n",
        "$$\n",
        "\n",
        "Where we have some known applied moment $M_c$, a known applied force $F_b$, and we can calculate the reaction force $B_y$.\n",
        "\n",
        "Let's rearrange for $B_y$\n",
        "\n",
        "$$\n",
        "B_y = \\frac{F_b d_{ab} - M_c}{L}\n",
        "$$\n",
        "\n",
        "Let me assign some values to these variables and calculate the reaction force $B_y$."
      ]
    },
    {
      "cell_type": "code",
      "execution_count": null,
      "metadata": {
        "id": "Ggcpia52y3Gb",
        "outputId": "35c55f5a-8d92-4420-9a58-257b0fa34b5e"
      },
      "outputs": [
        {
          "data": {
            "text/plain": [
              "2.0"
            ]
          },
          "execution_count": 12,
          "metadata": {},
          "output_type": "execute_result"
        }
      ],
      "source": [
        "# Applied force at point B\n",
        "F_b = 10.0 # kN\n",
        "\n",
        "# Applied moment at point C\n",
        "M_c = 30.0 # kN*m\n",
        "\n",
        "# Solve for the reaction force By\n",
        "B_y = (F_b * d_ab - M_c) / L\n",
        "B_y"
      ]
    },
    {
      "cell_type": "markdown",
      "metadata": {
        "id": "onQ3iRMFy3Gb"
      },
      "source": [
        "Now, we have done this calculation, I want to see the value of the reaction force $B_y$. Let's look at a nicer way to print the value of a variable using the `print()` function."
      ]
    },
    {
      "cell_type": "code",
      "execution_count": null,
      "metadata": {
        "id": "1psW4wc1y3Gb",
        "outputId": "d0cc12fe-91d6-435a-95e3-782b346f3a92"
      },
      "outputs": [
        {
          "name": "stdout",
          "output_type": "stream",
          "text": [
            "The y component reaction force at point B = 2.00 kN\n"
          ]
        }
      ],
      "source": [
        "print(f\"The y component reaction force at point B = {B_y:.2f} kN\")"
      ]
    },
    {
      "cell_type": "markdown",
      "metadata": {
        "id": "vHDyXLIOy3Gb"
      },
      "source": [
        "Notice all of the different ways we can format the output. The `f-string` method is the most modern and most readable. You are maintaining the flexibility, not hard-coding the variable name, and you can format the output to a specific number of decimal places, given by the number after the colon. Let me show you how we can change the output to different decimal places."
      ]
    },
    {
      "cell_type": "code",
      "execution_count": null,
      "metadata": {
        "id": "XJRlPoXty3Gb",
        "outputId": "882f953d-1fd7-471a-d984-6609cf8918ae"
      },
      "outputs": [
        {
          "name": "stdout",
          "output_type": "stream",
          "text": [
            "The y component reaction force at point B = 2.00000 kN\n"
          ]
        }
      ],
      "source": [
        "print(f\"The y component reaction force at point B = {B_y:.5f} kN\")"
      ]
    },
    {
      "cell_type": "markdown",
      "metadata": {
        "id": "rtANliTry3Gb"
      },
      "source": [
        "Or using scientific notation."
      ]
    },
    {
      "cell_type": "code",
      "execution_count": null,
      "metadata": {
        "id": "00UkexiCy3Gb",
        "outputId": "c829a9da-a6f8-4b80-ab02-6997b5e215d4"
      },
      "outputs": [
        {
          "name": "stdout",
          "output_type": "stream",
          "text": [
            "The y component reaction force at point B = 2.00e+00 kN\n"
          ]
        }
      ],
      "source": [
        "print(f\"The y component reaction force at point B = {B_y:.2e} kN\")"
      ]
    },
    {
      "cell_type": "markdown",
      "metadata": {
        "id": "Mic5hM7Ly3Gb"
      },
      "source": [
        "Now I want you do use what we have learned to calculate the reaction force $A_y$.\n",
        "\n",
        "Print out the value to 2 decimal places, also print out the type of the variable using the print function."
      ]
    },
    {
      "cell_type": "code",
      "execution_count": 1,
      "metadata": {
        "colab": {
          "base_uri": "https://localhost:8080/"
        },
        "id": "x2tp2XKey3Gb",
        "outputId": "9501f02a-5df2-4731-b84d-f24c425ffb67"
      },
      "outputs": [
        {
          "output_type": "stream",
          "name": "stdout",
          "text": [
            "The Y reaction force at point A is 8.00 Kn\n"
          ]
        }
      ],
      "source": [
        "# YOUR CODE HERE\n",
        "\n",
        "# Dimensions of the beam in meters\n",
        "d_ab = 6 # m\n",
        "d_bc = 3.0 # m\n",
        "d_cd = 6.0 # m\n",
        "length = d_ab + d_bc + d_cd # m\n",
        "\n",
        "# The value of the applied force at B\n",
        "F_b = 10.0 # kN\n",
        "\n",
        "# The value Applied moment at point C\n",
        "M_c = 30.0 # kN*m\n",
        "\n",
        "A_y = (M_c + (d_cd + d_bc) * F_b) / length # kN\n",
        "\n",
        "print(f'The Y reaction force at point A is {A_y:.2f} Kn')"
      ]
    },
    {
      "cell_type": "markdown",
      "metadata": {
        "id": "egXLIM7wy3Gb"
      },
      "source": [
        "### Question 2 - Data Structures\n",
        "\n",
        "We will need to organize our data in a way that makes it easy to calculate the shear force and bending moment at different points along the beam. Let's start reviewing some basic data structures in Python.\n",
        "\n",
        "Tuples are ordered collections of elements that are immutable. This means that once you create a tuple, you cannot change the elements inside it. You can access elements of a tuple using indexing, slicing, or unpacking.\n",
        "\n",
        "Let's make a tuples of our distances."
      ]
    },
    {
      "cell_type": "code",
      "execution_count": null,
      "metadata": {
        "id": "sUQhV1Rhy3Gc",
        "outputId": "fb50254b-9454-4370-d464-583c74a95638"
      },
      "outputs": [
        {
          "data": {
            "text/plain": [
              "tuple"
            ]
          },
          "execution_count": 17,
          "metadata": {},
          "output_type": "execute_result"
        }
      ],
      "source": [
        "# Construct a tuple of the distances\n",
        "ds = (d_ab, d_bc, d_cd)\n",
        "type(ds)"
      ]
    },
    {
      "cell_type": "markdown",
      "metadata": {
        "id": "L9_UgrF7y3Gc"
      },
      "source": [
        "We can recover an element from the tuple using indexing. Remember that Python indexing starts at 0."
      ]
    },
    {
      "cell_type": "code",
      "execution_count": null,
      "metadata": {
        "id": "Ms9nDc50y3Gc",
        "outputId": "bfede665-83ce-4c42-82c5-e050bb794f34"
      },
      "outputs": [
        {
          "name": "stdout",
          "output_type": "stream",
          "text": [
            "The first element of ds is 6\n"
          ]
        }
      ],
      "source": [
        "d = ds[0]\n",
        "print(f'The first element of ds is {d}')"
      ]
    },
    {
      "cell_type": "markdown",
      "metadata": {
        "id": "38W4ITcJy3Gc"
      },
      "source": [
        "Let me show you what I mean by tuples being immutable. Let's try to change the value of the first element of the tuple."
      ]
    },
    {
      "cell_type": "code",
      "execution_count": null,
      "metadata": {
        "id": "YxhKppt7y3Gc",
        "outputId": "54ea254f-873f-43bf-ec1b-1572fcd958b6"
      },
      "outputs": [
        {
          "name": "stdout",
          "output_type": "stream",
          "text": [
            "TypeError: 'tuple' object does not support item assignment\n"
          ]
        }
      ],
      "source": [
        "# Modify the first element of ds\n",
        "new_d = 10.0 # m\n",
        "\n",
        "# Attempt to modify the first element of ds\n",
        "try:\n",
        "    ds[0] = new_d\n",
        "except TypeError as e:\n",
        "    print(f\"TypeError: {e}\")"
      ]
    },
    {
      "cell_type": "markdown",
      "metadata": {
        "id": "8eeTxm5Uy3Gc"
      },
      "source": [
        "If we want to change the value of an element in a collection, we should use a list. Lists are ordered collections of elements that are mutable. We use a `[]` to form lists rather than the `()` that we use to form tuples. This means that you can change the elements inside a list. You can access elements of a list using indexing, slicing, or unpacking."
      ]
    },
    {
      "cell_type": "code",
      "execution_count": null,
      "metadata": {
        "id": "cVsUKOMly3Gc",
        "outputId": "209c7da1-78c0-4f0e-c8eb-16f23139b7ee"
      },
      "outputs": [
        {
          "data": {
            "text/plain": [
              "list"
            ]
          },
          "execution_count": 20,
          "metadata": {},
          "output_type": "execute_result"
        }
      ],
      "source": [
        "# Construct a list of the distances\n",
        "ds = [d_ab, d_bc, d_cd]\n",
        "type(ds)"
      ]
    },
    {
      "cell_type": "markdown",
      "metadata": {
        "id": "DtoHxOTyy3Gc"
      },
      "source": [
        "Here, we can easily change and element of the list. Just to show you some other ways to index a list, let's change the last element of the list."
      ]
    },
    {
      "cell_type": "code",
      "execution_count": null,
      "metadata": {
        "id": "3TjgGjTIy3Gc",
        "outputId": "2a6defd2-b6b6-474e-f337-557f871fa5fe"
      },
      "outputs": [
        {
          "name": "stdout",
          "output_type": "stream",
          "text": [
            "The modified list of distances is [6, 3.0, 10.0]\n"
          ]
        }
      ],
      "source": [
        "# Create the new distance\n",
        "new_d = 10.0 # m\n",
        "\n",
        "# Modify the last element of ds\n",
        "ds[-1] = new_d\n",
        "print(f'The modified list of distances is {ds}')"
      ]
    },
    {
      "cell_type": "markdown",
      "metadata": {
        "id": "MIG3aKQQy3Gc"
      },
      "source": [
        "The last basic data structure we will review is the dictionary. Dictionaries are unordered collections of key-value pairs. You can access the value of a key using indexing. Let's create a dictionary of the distances and applied loads on the beam. We create a dictionary using `{}` and separate the key-value pairs with a `:`. So the strings in the dictionary are the keys and the values are the numbers."
      ]
    },
    {
      "cell_type": "code",
      "execution_count": null,
      "metadata": {
        "id": "XUPvYA5oy3Gg"
      },
      "outputs": [],
      "source": [
        "# Create a dictionary of the beam properties\n",
        "beam = {'d_ab': 6.0, 'd_bc': 3.0, 'd_cd': 6.0, 'F_b': 10.0, 'M_c': 30.0}"
      ]
    },
    {
      "cell_type": "markdown",
      "metadata": {
        "id": "YpW8E2aZy3Gg"
      },
      "source": [
        "We can access a value in the dictionary using the key."
      ]
    },
    {
      "cell_type": "code",
      "execution_count": null,
      "metadata": {
        "id": "h3czGbHQy3Gg",
        "outputId": "c1ee62d9-765d-4e4f-b965-84f844a8a65c"
      },
      "outputs": [
        {
          "name": "stdout",
          "output_type": "stream",
          "text": [
            "The applied force at point B is 10.0 kN\n"
          ]
        }
      ],
      "source": [
        "# Access the value of the applied force at point B\n",
        "F_b = beam['F_b']\n",
        "print(f'The applied force at point B is {F_b} kN')"
      ]
    },
    {
      "cell_type": "markdown",
      "metadata": {
        "id": "n577P1Uxy3Gg"
      },
      "source": [
        "These structures are very useful for organizing data and can be nested inside each other to create more complex data structures. Let's create a dictionary with a tuple of the distances and a list of the applied loads, and a dictionary of the reaction forces."
      ]
    },
    {
      "cell_type": "code",
      "execution_count": 23,
      "metadata": {
        "colab": {
          "base_uri": "https://localhost:8080/"
        },
        "id": "xSQbMlDzy3Gg",
        "outputId": "8705c528-c748-4c4d-c393-4e6672a5cd1b"
      },
      "outputs": [
        {
          "output_type": "stream",
          "name": "stdout",
          "text": [
            "The reaction force at point A is 8.0 kN\n"
          ]
        }
      ],
      "source": [
        "# Create a nested dictionary of the beam properties\n",
        "beam = {'distances': ds, 'applied': [F_b, M_c], 'reactions': {'A_y': A_y, 'B_y': B_y}}\n",
        "\n",
        "# Access the value of the reaction force at point A\n",
        "A_y = beam['reactions']['A_y']\n",
        "print(f'The reaction force at point A is {A_y} kN')"
      ]
    },
    {
      "cell_type": "markdown",
      "metadata": {
        "id": "BNBDJvavy3Gg"
      },
      "source": [
        "I want you to create a nested dictionary with the courses that you are taking this semester. This should include the course name, the instructor's name, and how much you are liking it on a scale of 1 to 10. Then I want you to extract the course numbers and print the sum."
      ]
    },
    {
      "cell_type": "code",
      "execution_count": 8,
      "metadata": {
        "colab": {
          "base_uri": "https://localhost:8080/"
        },
        "id": "RtKYustgy3Gh",
        "outputId": "5558a751-5dbf-4ac2-a711-f409d6fb6565"
      },
      "outputs": [
        {
          "output_type": "stream",
          "name": "stdout",
          "text": [
            "The sum of the course numbers is 85300.\n"
          ]
        }
      ],
      "source": [
        "# YOUR CODE HERE\n",
        "courses = {'ME': {'number': 27000, 'instructor': 'Dr. Jim Jones', 'rating': 10},'CS': {'number': 15900, 'instructor': 'Dr. William Crum','rating': 9},'ENGR': {'number': 16200, 'instructor': 'Dr. Timothy Whalen','rating': 2},'MA': {'number': 26200, 'instructor': 'Dr. Joseph Chen','rating': 9}}\n",
        "courseNumberSum = courses['ME']['number'] + courses['CS']['number']+ courses['ENGR']['number'] + courses['MA']['number']\n",
        "print(f'The sum of the course numbers is {courseNumberSum}.')"
      ]
    },
    {
      "cell_type": "markdown",
      "metadata": {
        "id": "7nUnFHo8y3Gh"
      },
      "source": [
        "### Question 3 - Control Structures\n",
        "\n",
        "For loops, conditional statements, and functions are the basic control structures in Python. Let's start with for loops. For loops are used to iterate over a sequence of elements. You can use a for loop to iterate over a list, tuple, or dictionary.\n",
        "\n",
        "Let's iterate over the distances tuple and convert it to different units."
      ]
    },
    {
      "cell_type": "code",
      "execution_count": null,
      "metadata": {
        "id": "CRzPgwBVy3Gh",
        "outputId": "d472bb08-8a79-429f-af1a-576f91f9d29f"
      },
      "outputs": [
        {
          "name": "stdout",
          "output_type": "stream",
          "text": [
            "The distances in cm are [600, 300.0, 1000.0]\n"
          ]
        }
      ],
      "source": [
        "# Initalize a list to store the distances in cm\n",
        "ds_cm = []\n",
        "\n",
        "# Iterate over each distance in the list\n",
        "for d in ds:\n",
        "    ds_cm.append(d * 100)\n",
        "\n",
        "print(f'The distances in cm are {ds_cm}')"
      ]
    },
    {
      "cell_type": "markdown",
      "metadata": {
        "id": "J_4_dh0Iy3Gh"
      },
      "source": [
        "Python has in-line for loops called list comprehensions. These are a more concise way to write for loops. Let's convert the distances tuple to a list using a list comprehension. Writing code like this is more \"Pythonic\" and is generally preferred."
      ]
    },
    {
      "cell_type": "code",
      "execution_count": null,
      "metadata": {
        "id": "vuArtCCqy3Gh"
      },
      "outputs": [],
      "source": [
        "# Create a list comprehension to convert the distances to cm\n",
        "ds_cm = [d * 100 for d in ds]"
      ]
    },
    {
      "cell_type": "markdown",
      "metadata": {
        "id": "Zcob1Fzwy3Gh"
      },
      "source": [
        "Let's integrate loops with conditional statements. Conditional statements are used to execute different blocks of code based on the truth value of a condition. The basic conditional statements in Python are `if`, `elif`, and `else`."
      ]
    },
    {
      "cell_type": "code",
      "execution_count": null,
      "metadata": {
        "id": "bjQKP9bqy3Gh",
        "outputId": "3d822c57-d99c-46d4-d56d-a6d0a0068003"
      },
      "outputs": [
        {
          "name": "stdout",
          "output_type": "stream",
          "text": [
            "The distances are [6, 3.0, 10.0]\n",
            "The applied forces are [10.0, 30.0]\n",
            "The reaction forces are {'A_y': 8.0, 'B_y': 2.0}\n"
          ]
        }
      ],
      "source": [
        "# Loop through applied and reaction forces\n",
        "for key, value in beam.items():\n",
        "    if key == 'applied':\n",
        "        print(f'The applied forces are {value}')\n",
        "    elif key == 'reactions':\n",
        "        print(f'The reaction forces are {value}')\n",
        "    else:\n",
        "        print(f'The distances are {value}')"
      ]
    },
    {
      "cell_type": "markdown",
      "metadata": {
        "id": "R9M6bY1Oy3Gh"
      },
      "source": [
        "I want you to use loops and conditional statements to convert the forces from kN to N, reassign the values to the dictionary, and print the dictionary."
      ]
    },
    {
      "cell_type": "code",
      "execution_count": 74,
      "metadata": {
        "colab": {
          "base_uri": "https://localhost:8080/"
        },
        "id": "8k4YrYtCy3Gh",
        "outputId": "c0b6822b-fa5e-447e-9429-a1c6604e6100"
      },
      "outputs": [
        {
          "output_type": "stream",
          "name": "stdout",
          "text": [
            "The distances are [6.0, 3.0, 6.0]\n",
            "The applied forces are [10000.0, 30000.0]\n",
            "The reaction forces are {'A_y': 8000.0, 'B_y': 2000.0}\n"
          ]
        }
      ],
      "source": [
        "# YOUR CODE HERE\n",
        "# define distances\n",
        "d_ab = 6.0 # m\n",
        "d_bc = 3.0 # m\n",
        "d_cd = 6.0 # m\n",
        "ds = [d_ab, d_bc, d_cd]\n",
        "length = d_ab + d_bc + d_cd # m\n",
        "\n",
        "# define forces\n",
        "F_b = 10.0 # kN\n",
        "M_c = 30.0 # kN\n",
        "B_y = (F_b * d_ab - M_c) / length # kN\n",
        "A_y = (M_c + (d_cd + d_bc) * F_b) / length # kN\n",
        "\n",
        "# Create a nested dictionary of the beam properties\n",
        "beam = {'distances': ds, 'applied': [F_b, M_c], 'reactions': {'A_y': A_y, 'B_y': B_y}}\n",
        "\n",
        "for key, value in beam.items():\n",
        "    if key == 'applied':\n",
        "        for item in range(len(value)):\n",
        "            beam[key][item] = value[item] * 1000\n",
        "    if key == 'reactions':\n",
        "        for keyTwo in beam[key]:\n",
        "            if keyTwo == 'A_y':\n",
        "               beam[key][keyTwo]= beam[key][keyTwo] * 1000\n",
        "            if keyTwo == 'B_y':\n",
        "               beam[key][keyTwo] = beam[key][keyTwo] * 1000\n",
        "for key, value in beam.items():\n",
        "    if key == 'applied':\n",
        "        print(f'The applied forces are {value}')\n",
        "    elif key == 'reactions':\n",
        "        print(f'The reaction forces are {value}')\n",
        "    else:\n",
        "        print(f'The distances are {value}')\n",
        "\n",
        "\n",
        "\n",
        "\n"
      ]
    },
    {
      "cell_type": "markdown",
      "metadata": {
        "id": "684375tpy3Gh"
      },
      "source": [
        "### Question 4 - Functions\n",
        "\n",
        "In order to calculate the shear force and bending moment at different points along the beam, we will need to write functions to perform these calculations. Functions are reusable blocks of code that perform a specific task. They can take arguments and return values.\n",
        "\n",
        "The shear force at point B is a trivial calculation. The sum of the forces in the y-direction must be zero.\n",
        "\n",
        "$$\n",
        "\\sum F_y = 0\n",
        "$$\n",
        "\n",
        "$$\n",
        "\\sum F_y = A_y - V_{AB}\n",
        "$$\n",
        "\n",
        "Where $V_{AB}$ is the shear force at point B. Let's solve for $V_{AB}$."
      ]
    },
    {
      "cell_type": "code",
      "execution_count": null,
      "metadata": {
        "id": "yl4gZ_n6y3Gi",
        "outputId": "3b9a0737-95df-4da3-a6ff-ce2f74b203a2"
      },
      "outputs": [
        {
          "name": "stdout",
          "output_type": "stream",
          "text": [
            "The shear force at point B is 8.0 kN\n"
          ]
        }
      ],
      "source": [
        "def calc_V_ab(A_y):\n",
        "    \"\"\"\n",
        "    Calculate the shear force at point B.\n",
        "\n",
        "    Parameters:\n",
        "    A_y : float\n",
        "        The reaction force at point A in kN.\n",
        "\n",
        "    Returns:\n",
        "    V_ab : float\n",
        "        The shear forcein kN.\n",
        "    \"\"\"\n",
        "    V_ab = A_y\n",
        "    return V_ab\n",
        "\n",
        "V_b = calc_V_ab(A_y)\n",
        "print(f'The shear force at point B is {V_b} kN')"
      ]
    },
    {
      "cell_type": "markdown",
      "metadata": {
        "id": "D70kNfMIy3Gi"
      },
      "source": [
        "The function begins with the `def` keyword, followed by the function name and the arguments in parentheses. Following is what is called a docstring, which is a string that describes the purpose of the function. It is best practice to include a docstring in your functions, so that others can understand what the function does.\n",
        "The function body is indented. The function returns a value using the `return` keyword.\n",
        "\n",
        "Let's do it again for the shear force at point C."
      ]
    },
    {
      "cell_type": "code",
      "execution_count": null,
      "metadata": {
        "id": "LJO1-gzZy3Gi",
        "outputId": "cc36a565-4c5b-4fa0-f5c9-a18eac36a92e"
      },
      "outputs": [
        {
          "name": "stdout",
          "output_type": "stream",
          "text": [
            "The shear force at point C is -2.0 kN\n"
          ]
        }
      ],
      "source": [
        "def calc_V_bc(F_b, A_y):\n",
        "    \"\"\"\n",
        "    Calculate the shear force at point C.\n",
        "\n",
        "    Parameters:\n",
        "    F_b : float\n",
        "        The applied force at point B in kN.\n",
        "    A_y : float\n",
        "        The reaction force at point A in kN.\n",
        "\n",
        "    Returns:\n",
        "    V_bc : float\n",
        "        The shear force in kN.\n",
        "    \"\"\"\n",
        "    V_bc = A_y - F_b\n",
        "    return V_bc\n",
        "\n",
        "V_c = calc_V_bc(F_b, A_y)\n",
        "print(f'The shear force at point C is {V_c} kN')"
      ]
    },
    {
      "cell_type": "markdown",
      "metadata": {
        "id": "u4reTR56y3Gi"
      },
      "source": [
        "I want you to write functions to calculate the bending moment in the rest of the beam."
      ]
    },
    {
      "cell_type": "code",
      "execution_count": 15,
      "metadata": {
        "colab": {
          "base_uri": "https://localhost:8080/"
        },
        "id": "WcQ3XXg5y3Gi",
        "outputId": "4e7c22d0-cf5e-4320-c45e-4f8aca0c4931"
      },
      "outputs": [
        {
          "output_type": "stream",
          "name": "stdout",
          "text": [
            "The bending moment at point B is 48.0 kN-m\n",
            "The bending moment at point C is 42.0 kN-m\n",
            "The bending moment at point D is 0.0 kN-m\n"
          ]
        }
      ],
      "source": [
        "# YOUR CODE HERE\n",
        "\n",
        "\n",
        "# define distances\n",
        "d_ab = 6.0 # m\n",
        "d_bc = 3.0 # m\n",
        "d_cd = 6.0 # m\n",
        "ds = [d_ab, d_bc, d_cd]\n",
        "length = d_ab + d_bc + d_cd # m\n",
        "\n",
        "# define forces\n",
        "F_b = 10.0 # kN\n",
        "M_c = 30.0 # kN\n",
        "B_y = (F_b * d_ab - M_c) / length # kN\n",
        "A_y = (M_c + (d_cd + d_bc) * F_b) / length # kN\n",
        "\n",
        "\n",
        "def calc_M_ab(A_y, d_ab):\n",
        "    \"\"\"\n",
        "    Calculate the bending moment right before point B.\n",
        "\n",
        "    Parameters:\n",
        "    A_y : float\n",
        "        The reaction force at point A in kN.\n",
        "    d_ad : float\n",
        "        The distance from point a to point b in m.\n",
        "\n",
        "\n",
        "    Returns:\n",
        "    M_ab : float\n",
        "        The bending moment in kN*m.\n",
        "    \"\"\"\n",
        "    M_ab = A_y * d_ab\n",
        "    return M_ab\n",
        "\n",
        "def calc_M_bc(F_b,d_ab,d_bc, A_y):\n",
        "    \"\"\"\n",
        "    Calculate the bending moment right before point c.\n",
        "\n",
        "    Parameters:\n",
        "    F_b : float\n",
        "        The applied force at point B in kN.\n",
        "    d_ab : float\n",
        "        The distance from point a to point b in m.\n",
        "    d_bc : float\n",
        "        The distance from point b to point c in m.\n",
        "    A_y : float\n",
        "        The reaction force at point A in kN.\n",
        "\n",
        "    Returns:\n",
        "    M_bc : float\n",
        "        The bending moment in kN*m.\n",
        "    \"\"\"\n",
        "    M_bc = (A_y * (d_ab+d_bc)) - (F_b * d_bc)\n",
        "    return M_bc\n",
        "\n",
        "def calc_M_cd(F_b,d_ab,d_bc, Ay, d_cd, M_c):\n",
        "    \"\"\"\n",
        "    Calculate the bending moment right before point D.\n",
        "\n",
        "    Parameters:\n",
        "    F_b : float\n",
        "        The applied force at point B in kN.\n",
        "    A_y : float\n",
        "        The reaction force at point A in kN.\n",
        "    d_ab : float\n",
        "        The distance from point a to point b in m.\n",
        "    d_bc : float\n",
        "        The distance from point B to point C in m.\n",
        "    d_cd : float\n",
        "        The distance from point C to point D in m.\n",
        "    M_c : float\n",
        "        The applied moment at point C in kN*m.\n",
        "\n",
        "    Returns:\n",
        "    M_cd : float\n",
        "        The bending moment in kN*m.\n",
        "    \"\"\"\n",
        "    M_cd = (Ay * (d_ab+d_bc+d_cd)) - (F_b * (d_bc + d_cd)) - M_c\n",
        "    return M_cd\n",
        "\n",
        "M_ab = calc_M_ab(A_y, d_ab)\n",
        "M_bc = calc_M_bc(F_b, d_ab, d_bc, A_y)\n",
        "M_cd = calc_M_cd(F_b,d_ab,d_bc, A_y, d_cd, M_c)\n",
        "\n",
        "print(f'The bending moment at point B is {M_ab} kN-m')\n",
        "print(f'The bending moment at point C is {M_bc} kN-m')\n",
        "print(f'The bending moment at point D is {M_cd} kN-m')\n",
        "\n",
        "\n",
        "\n",
        "\n",
        "\n",
        "\n",
        "\n"
      ]
    },
    {
      "cell_type": "markdown",
      "metadata": {
        "id": "pbl5Nz7Qy3Gi"
      },
      "source": [
        "### Question 5 - Plotting shear force and bending moment diagrams\n",
        "\n",
        "Great! Now we can put it all together to plot the shear force and bending moment diagrams. We will use the `matplotlib` library to plot the diagrams and `numpy` to help assist with our numerical computations. I have imported the libaries already, but when you are working on your own, you will need to import them.\n",
        "\n",
        "We want to plot at arbitrary points along the beam, so we will need to create an array of x-values. We can use the `np.linspace()` function to create an array of evenly spaced values along the length of the beam"
      ]
    },
    {
      "cell_type": "code",
      "execution_count": 19,
      "metadata": {
        "colab": {
          "base_uri": "https://localhost:8080/",
          "height": 141
        },
        "id": "0QUKIpYqy3Gi",
        "outputId": "eae49b2a-8d7b-410d-c8e3-673db679dfe1"
      },
      "outputs": [
        {
          "output_type": "error",
          "ename": "NameError",
          "evalue": "name 'np' is not defined",
          "traceback": [
            "\u001b[0;31m---------------------------------------------------------------------------\u001b[0m",
            "\u001b[0;31mNameError\u001b[0m                                 Traceback (most recent call last)",
            "\u001b[0;32m<ipython-input-19-92a7e00b7267>\u001b[0m in \u001b[0;36m<cell line: 0>\u001b[0;34m()\u001b[0m\n\u001b[0;32m----> 1\u001b[0;31m \u001b[0mx\u001b[0m \u001b[0;34m=\u001b[0m \u001b[0mnp\u001b[0m\u001b[0;34m.\u001b[0m\u001b[0mlinspace\u001b[0m\u001b[0;34m(\u001b[0m\u001b[0;36m0\u001b[0m\u001b[0;34m,\u001b[0m \u001b[0mL\u001b[0m\u001b[0;34m,\u001b[0m \u001b[0;36m100\u001b[0m\u001b[0;34m)\u001b[0m\u001b[0;34m\u001b[0m\u001b[0;34m\u001b[0m\u001b[0m\n\u001b[0m",
            "\u001b[0;31mNameError\u001b[0m: name 'np' is not defined"
          ]
        }
      ],
      "source": [
        "x = np.linspace(0, L, 100)"
      ]
    },
    {
      "cell_type": "markdown",
      "metadata": {
        "id": "rAqjqxZiy3Gi"
      },
      "source": [
        "I am going to create the shear force diagram for you. First let's initalize our shear force array."
      ]
    },
    {
      "cell_type": "code",
      "execution_count": null,
      "metadata": {
        "id": "8C4Ravjry3Gi"
      },
      "outputs": [],
      "source": [
        "shear = np.zeros_like(x)"
      ]
    },
    {
      "cell_type": "markdown",
      "metadata": {
        "id": "Gqj4tn1My3Gi"
      },
      "source": [
        "Now we will loop through the x-values and calculate the shear force at each point. We will use the conditionals to determine which function to use at each segment."
      ]
    },
    {
      "cell_type": "code",
      "execution_count": null,
      "metadata": {
        "id": "8z4SRSEfy3Gj"
      },
      "outputs": [],
      "source": [
        "for i, xi in enumerate(x):\n",
        "    if xi <= d_ab:\n",
        "        shear[i] = calc_V_ab(A_y)\n",
        "    else:\n",
        "        shear[i] = calc_V_bc(F_b, A_y)"
      ]
    },
    {
      "cell_type": "markdown",
      "metadata": {
        "id": "fyYdeB-Cy3Gj"
      },
      "source": [
        "Let's plot the shear force diagram. Always title your plot and label your axes with units. A lot of the rest of plotting is just formatting the plot to make it look nice."
      ]
    },
    {
      "cell_type": "code",
      "execution_count": 75,
      "metadata": {
        "colab": {
          "base_uri": "https://localhost:8080/",
          "height": 211
        },
        "id": "h1i0vnmcy3Gj",
        "outputId": "9f23d57e-c34b-4f27-8364-cd7e8587db69"
      },
      "outputs": [
        {
          "output_type": "error",
          "ename": "NameError",
          "evalue": "name 'plt' is not defined",
          "traceback": [
            "\u001b[0;31m---------------------------------------------------------------------------\u001b[0m",
            "\u001b[0;31mNameError\u001b[0m                                 Traceback (most recent call last)",
            "\u001b[0;32m<ipython-input-75-2a1c169880eb>\u001b[0m in \u001b[0;36m<cell line: 0>\u001b[0;34m()\u001b[0m\n\u001b[1;32m      1\u001b[0m \u001b[0;31m# Create a figure and axis\u001b[0m\u001b[0;34m\u001b[0m\u001b[0;34m\u001b[0m\u001b[0m\n\u001b[0;32m----> 2\u001b[0;31m \u001b[0mfig\u001b[0m\u001b[0;34m,\u001b[0m \u001b[0max\u001b[0m \u001b[0;34m=\u001b[0m \u001b[0mplt\u001b[0m\u001b[0;34m.\u001b[0m\u001b[0msubplots\u001b[0m\u001b[0;34m(\u001b[0m\u001b[0;34m)\u001b[0m\u001b[0;34m\u001b[0m\u001b[0;34m\u001b[0m\u001b[0m\n\u001b[0m\u001b[1;32m      3\u001b[0m \u001b[0;31m# Plot the shear force diagram\u001b[0m\u001b[0;34m\u001b[0m\u001b[0;34m\u001b[0m\u001b[0m\n\u001b[1;32m      4\u001b[0m \u001b[0max\u001b[0m\u001b[0;34m.\u001b[0m\u001b[0mplot\u001b[0m\u001b[0;34m(\u001b[0m\u001b[0mx\u001b[0m\u001b[0;34m,\u001b[0m \u001b[0mshear\u001b[0m\u001b[0;34m)\u001b[0m\u001b[0;34m\u001b[0m\u001b[0;34m\u001b[0m\u001b[0m\n\u001b[1;32m      5\u001b[0m \u001b[0;31m# Shades between the x-axis and our shear force curve\u001b[0m\u001b[0;34m\u001b[0m\u001b[0;34m\u001b[0m\u001b[0m\n",
            "\u001b[0;31mNameError\u001b[0m: name 'plt' is not defined"
          ]
        }
      ],
      "source": [
        "# Create a figure and axis\n",
        "fig, ax = plt.subplots()\n",
        "# Plot the shear force diagram\n",
        "ax.plot(x, shear)\n",
        "# Shades between the x-axis and our shear force curve\n",
        "ax.fill_between(x, shear, 0, alpha=0.3)\n",
        "ax.set_xlabel('Distance (m)')\n",
        "ax.set_ylabel('Shear Force (kN)')\n",
        "ax.set_title('Shear Force Diagram')\n",
        "ax.grid(True)\n",
        "sns.despine(trim=True)\n",
        "plt.show()"
      ]
    },
    {
      "cell_type": "markdown",
      "metadata": {
        "id": "71F3Ocy1y3Gj"
      },
      "source": [
        "I want you to make the plot for the bending moment diagram. Be careful with the applied moment at point C."
      ]
    },
    {
      "cell_type": "code",
      "execution_count": null,
      "metadata": {
        "id": "iBdOFTLty3Gj"
      },
      "outputs": [],
      "source": [
        "# YOUR CODE HERE"
      ]
    }
  ],
  "metadata": {
    "kernelspec": {
      "display_name": "Python 3",
      "language": "python",
      "name": "python3"
    },
    "language_info": {
      "codemirror_mode": {
        "name": "ipython",
        "version": 3
      },
      "file_extension": ".py",
      "mimetype": "text/x-python",
      "name": "python",
      "nbconvert_exporter": "python",
      "pygments_lexer": "ipython3",
      "version": "3.11.4"
    },
    "colab": {
      "provenance": []
    }
  },
  "nbformat": 4,
  "nbformat_minor": 0
}